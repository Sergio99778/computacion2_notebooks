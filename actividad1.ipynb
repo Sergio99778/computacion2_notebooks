{
 "cells": [
  {
   "cell_type": "code",
   "execution_count": 1,
   "metadata": {},
   "outputs": [
    {
     "name": "stdout",
     "output_type": "stream",
     "text": [
      "Requirement already satisfied: pandas in c:\\users\\brand\\documents\\agora\\data_cleaning\\venv\\lib\\site-packages (2.2.2)\n",
      "Requirement already satisfied: numpy in c:\\users\\brand\\documents\\agora\\data_cleaning\\venv\\lib\\site-packages (2.1.1)\n",
      "Requirement already satisfied: python-dateutil>=2.8.2 in c:\\users\\brand\\documents\\agora\\data_cleaning\\venv\\lib\\site-packages (from pandas) (2.9.0.post0)\n",
      "Requirement already satisfied: pytz>=2020.1 in c:\\users\\brand\\documents\\agora\\data_cleaning\\venv\\lib\\site-packages (from pandas) (2024.2)\n",
      "Requirement already satisfied: tzdata>=2022.7 in c:\\users\\brand\\documents\\agora\\data_cleaning\\venv\\lib\\site-packages (from pandas) (2024.1)\n",
      "Requirement already satisfied: six>=1.5 in c:\\users\\brand\\documents\\agora\\data_cleaning\\venv\\lib\\site-packages (from python-dateutil>=2.8.2->pandas) (1.16.0)\n"
     ]
    },
    {
     "name": "stderr",
     "output_type": "stream",
     "text": [
      "\n",
      "[notice] A new release of pip is available: 24.0 -> 24.2\n",
      "[notice] To update, run: python.exe -m pip install --upgrade pip\n"
     ]
    }
   ],
   "source": [
    "!pip install pandas numpy"
   ]
  },
  {
   "cell_type": "code",
   "execution_count": 2,
   "metadata": {},
   "outputs": [],
   "source": [
    "import pandas as pd\n",
    "import numpy as np"
   ]
  },
  {
   "cell_type": "code",
   "execution_count": 4,
   "metadata": {},
   "outputs": [],
   "source": [
    "sismos_route = \"C:\\\\Users\\\\brand\\\\Downloads\\\\SismosMexico.csv\""
   ]
  },
  {
   "cell_type": "code",
   "execution_count": 5,
   "metadata": {},
   "outputs": [],
   "source": [
    "\n",
    "sismos = pd.read_csv(sismos_route)"
   ]
  },
  {
   "cell_type": "code",
   "execution_count": 6,
   "metadata": {},
   "outputs": [
    {
     "name": "stdout",
     "output_type": "stream",
     "text": [
      "I. Hay 4272 registros.\n",
      "Los atributos de los datos son:\n",
      "Index(['Fecha', 'Hora', 'Magnitud', 'Latitud', 'Longitud', 'Profundidad',\n",
      "       'Referencia de localizacion', 'Fecha UTC', 'Hora UTC', 'Estatus'],\n",
      "      dtype='object')\n"
     ]
    }
   ],
   "source": [
    "# I. ¿Cuántos registros hay? ¿Cuáles son los atributos de los datos?\n",
    "print(\"I. Hay\", len(sismos), \"registros.\")\n",
    "print(\"Los atributos de los datos son:\")\n",
    "print(sismos.columns)"
   ]
  },
  {
   "cell_type": "code",
   "execution_count": 7,
   "metadata": {},
   "outputs": [
    {
     "name": "stdout",
     "output_type": "stream",
     "text": [
      "II. Hay 63 registros incompletos.\n"
     ]
    }
   ],
   "source": [
    "# II. ¿Cuántos registros están incompletos?\n",
    "print(\"II. Hay\", sismos.isnull().sum().sum(), \"registros incompletos.\")"
   ]
  },
  {
   "cell_type": "code",
   "execution_count": 8,
   "metadata": {},
   "outputs": [
    {
     "name": "stdout",
     "output_type": "stream",
     "text": [
      "III. El sismo de mayor magnitud registrado en la base es:\n",
      "         Fecha     Hora  Magnitud  Latitud  Longitud Profundidad  \\\n",
      "3930  25/09/24  0:43:21       5.3    14.18    -93.42         8.7   \n",
      "\n",
      "                   Referencia de localizacion Fecha UTC Hora UTC     Estatus  \n",
      "3930  148 km al SUROESTE de CD HIDALGO, CHIS   25/09/24  6:43:21  verificado  \n"
     ]
    }
   ],
   "source": [
    "# III. ¿Cuál ha sido el sismo de mayor magnitud registrado en la base? ¿En dónde fue registrado? Da el registro completo.\n",
    "print(\"III. El sismo de mayor magnitud registrado en la base es:\")\n",
    "print(sismos[sismos['Magnitud'] == sismos['Magnitud'].max()])"
   ]
  },
  {
   "cell_type": "code",
   "execution_count": 10,
   "metadata": {},
   "outputs": [
    {
     "name": "stdout",
     "output_type": "stream",
     "text": [
      "IV. El sismo más superficial es:\n",
      "         Fecha      Hora  Magnitud  Latitud  Longitud  Profundidad  \\\n",
      "192   02/09/24  22:42:47       2.5    19.41    -99.21          1.0   \n",
      "200   03/09/24   0:13:18       1.9    19.40    -99.17          1.0   \n",
      "201   03/09/24   0:19:02       1.4    19.40    -99.17          1.0   \n",
      "844   05/09/24  20:49:08       2.3    19.40    -99.17          1.0   \n",
      "871   06/09/24   1:41:08       2.1    19.40    -99.17          1.0   \n",
      "993   06/09/24  22:54:56       2.2    19.39    -99.17          1.0   \n",
      "1002  06/09/24  23:46:46       1.7    19.40    -99.17          1.0   \n",
      "2897  17/09/24  12:54:07       1.8    19.37    -99.21          1.0   \n",
      "4027  26/09/24   0:39:05       2.9    19.40    -99.18          1.0   \n",
      "4050  26/09/24   5:13:16       2.0    19.39    -99.19          1.0   \n",
      "4054  26/09/24   5:21:31       1.0    19.39    -99.19          1.0   \n",
      "4056  26/09/24   5:31:05       1.0    19.39    -99.19          1.0   \n",
      "4057  26/09/24   5:39:14       1.5    19.39    -99.19          1.0   \n",
      "4076  26/09/24  10:26:32       2.4    19.40    -99.17          1.0   \n",
      "4081  26/09/24  11:17:14       1.1    19.40    -99.17          1.0   \n",
      "4084  26/09/24  11:37:59       1.4    19.40    -99.17          1.0   \n",
      "4086  26/09/24  11:41:49       2.2    19.40    -99.17          1.0   \n",
      "4088  26/09/24  11:50:31       1.5    19.39    -99.20          1.0   \n",
      "4090  26/09/24  12:03:02       1.7    19.40    -99.18          1.0   \n",
      "4107  26/09/24  14:31:21       1.4    19.40    -99.18          1.0   \n",
      "4123  26/09/24  18:29:46       1.0    19.39    -99.19          1.0   \n",
      "4130  26/09/24  19:51:50       1.7    19.39    -99.19          1.0   \n",
      "4131  26/09/24  20:00:26       1.0    19.40    -99.18          1.0   \n",
      "4152  26/09/24  23:16:49       1.6    19.40    -99.18          1.0   \n",
      "4155  26/09/24  23:31:00       2.7    19.38    -99.19          1.0   \n",
      "4159  26/09/24  23:57:05       1.2    19.38    -99.19          1.0   \n",
      "4164  27/09/24   0:29:39       1.8    19.40    -99.18          1.0   \n",
      "4192  27/09/24   3:57:35       2.3    19.39    -99.19          1.0   \n",
      "4242  27/09/24  13:47:01       1.4    19.40    -99.18          1.0   \n",
      "4262  27/09/24  17:51:43       2.4    19.38    -99.19          1.0   \n",
      "\n",
      "                       Referencia de localizacion Fecha UTC  Hora UTC  \\\n",
      "192   2 km al NOROESTE de V ALVARO OBREGON, CDMX   03/09/24   4:42:47   \n",
      "200      1 km al SUROESTE de BENITO JUAREZ, CDMX   03/09/24   6:13:18   \n",
      "201      1 km al SUROESTE de BENITO JUAREZ, CDMX   03/09/24   6:19:02   \n",
      "844         1 km al OESTE de BENITO JUAREZ, CDMX   06/09/24   2:49:08   \n",
      "871         2 km al OESTE de BENITO JUAREZ, CDMX   06/09/24   7:41:08   \n",
      "993      2 km al SUROESTE de BENITO JUAREZ, CDMX   07/09/24   4:54:56   \n",
      "1002     1 km al SUROESTE de BENITO JUAREZ, CDMX   07/09/24   5:46:46   \n",
      "2897  3 km al SUROESTE de V ALVARO OBREGON, CDMX   17/09/24  18:54:07   \n",
      "4027     2 km al SURESTE de MIGUEL HIDALGO, CDMX   26/09/24   6:39:05   \n",
      "4050     1 km al SURESTE de MIGUEL HIDALGO, CDMX   26/09/24  11:13:16   \n",
      "4054     1 km al SURESTE de MIGUEL HIDALGO, CDMX   26/09/24  11:21:31   \n",
      "4056     1 km al SURESTE de MIGUEL HIDALGO, CDMX   26/09/24  11:31:05   \n",
      "4057     1 km al SURESTE de MIGUEL HIDALGO, CDMX   26/09/24  11:39:14   \n",
      "4076        2 km al OESTE de BENITO JUAREZ, CDMX   26/09/24  16:26:32   \n",
      "4081        1 km al OESTE de BENITO JUAREZ, CDMX   26/09/24  17:17:14   \n",
      "4084        1 km al OESTE de BENITO JUAREZ, CDMX   26/09/24  17:37:59   \n",
      "4086        1 km al OESTE de BENITO JUAREZ, CDMX   26/09/24  17:41:49   \n",
      "4088       1 km al SUR de V ALVARO OBREGON, CDMX   26/09/24  17:50:31   \n",
      "4090      2 km al SURESTE de MIGUEL HIDALGO, CDMX  26/09/24  18:03:02   \n",
      "4107     1 km al SURESTE de MIGUEL HIDALGO, CDMX   26/09/24  20:31:21   \n",
      "4123   1 km al SURESTE de V ALVARO OBREGON, CDMX   27/09/24   0:29:46   \n",
      "4130     1 km al SURESTE de MIGUEL HIDALGO, CDMX   27/09/24   1:51:50   \n",
      "4131     1 km al SURESTE de MIGUEL HIDALGO, CDMX   27/09/24   2:00:26   \n",
      "4152     1 km al SURESTE de MIGUEL HIDALGO, CDMX   27/09/24   5:16:49   \n",
      "4155   2 km al SURESTE de V ALVARO OBREGON, CDMX   27/09/24   5:31:00   \n",
      "4159   2 km al SURESTE de V ALVARO OBREGON, CDMX   27/09/24   5:57:05   \n",
      "4164     2 km al SURESTE de MIGUEL HIDALGO, CDMX   27/09/24   6:29:39   \n",
      "4192   2 km al SURESTE de V ALVARO OBREGON, CDMX   27/09/24   9:57:35   \n",
      "4242     1 km al SURESTE de MIGUEL HIDALGO, CDMX   27/09/24  19:47:01   \n",
      "4262   2 km al SURESTE de V ALVARO OBREGON, CDMX   27/09/24  23:51:43   \n",
      "\n",
      "         Estatus  \n",
      "192   verificado  \n",
      "200   verificado  \n",
      "201   verificado  \n",
      "844   verificado  \n",
      "871   verificado  \n",
      "993   verificado  \n",
      "1002  verificado  \n",
      "2897  verificado  \n",
      "4027  verificado  \n",
      "4050  verificado  \n",
      "4054  verificado  \n",
      "4056  verificado  \n",
      "4057  verificado  \n",
      "4076  verificado  \n",
      "4081  verificado  \n",
      "4084  verificado  \n",
      "4086  verificado  \n",
      "4088  verificado  \n",
      "4090  verificado  \n",
      "4107  verificado  \n",
      "4123  verificado  \n",
      "4130  verificado  \n",
      "4131  verificado  \n",
      "4152  verificado  \n",
      "4155  verificado  \n",
      "4159  verificado  \n",
      "4164  verificado  \n",
      "4192  verificado  \n",
      "4242  verificado  \n",
      "4262  verificado  \n"
     ]
    }
   ],
   "source": [
    "# IV. ¿Cuál es el sismo más superficial y cuál es el sismo más profundo?\n",
    "sismos['Profundidad'] = pd.to_numeric(sismos['Profundidad'], errors='coerce')\n",
    "print(\"IV. El sismo más superficial es:\")\n",
    "print(sismos[sismos['Profundidad'] == sismos['Profundidad'].min()])"
   ]
  }
 ],
 "metadata": {
  "kernelspec": {
   "display_name": "venv",
   "language": "python",
   "name": "python3"
  },
  "language_info": {
   "codemirror_mode": {
    "name": "ipython",
    "version": 3
   },
   "file_extension": ".py",
   "mimetype": "text/x-python",
   "name": "python",
   "nbconvert_exporter": "python",
   "pygments_lexer": "ipython3",
   "version": "3.11.9"
  }
 },
 "nbformat": 4,
 "nbformat_minor": 2
}
