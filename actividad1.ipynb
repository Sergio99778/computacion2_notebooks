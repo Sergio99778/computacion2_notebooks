{
 "cells": [
  {
   "cell_type": "code",
   "execution_count": 13,
   "metadata": {},
   "outputs": [
    {
     "name": "stdout",
     "output_type": "stream",
     "text": [
      "Requirement already satisfied: pandas in c:\\users\\brand\\documents\\agora\\data_cleaning\\venv\\lib\\site-packages (2.2.2)\n",
      "Requirement already satisfied: numpy in c:\\users\\brand\\documents\\agora\\data_cleaning\\venv\\lib\\site-packages (2.1.1)\n",
      "Requirement already satisfied: python-dateutil>=2.8.2 in c:\\users\\brand\\documents\\agora\\data_cleaning\\venv\\lib\\site-packages (from pandas) (2.9.0.post0)\n",
      "Requirement already satisfied: pytz>=2020.1 in c:\\users\\brand\\documents\\agora\\data_cleaning\\venv\\lib\\site-packages (from pandas) (2024.2)\n",
      "Requirement already satisfied: tzdata>=2022.7 in c:\\users\\brand\\documents\\agora\\data_cleaning\\venv\\lib\\site-packages (from pandas) (2024.1)\n",
      "Requirement already satisfied: six>=1.5 in c:\\users\\brand\\documents\\agora\\data_cleaning\\venv\\lib\\site-packages (from python-dateutil>=2.8.2->pandas) (1.16.0)\n"
     ]
    },
    {
     "name": "stderr",
     "output_type": "stream",
     "text": [
      "\n",
      "[notice] A new release of pip is available: 24.0 -> 24.2\n",
      "[notice] To update, run: python.exe -m pip install --upgrade pip\n"
     ]
    }
   ],
   "source": [
    "!pip install pandas numpy"
   ]
  },
  {
   "cell_type": "code",
   "execution_count": 14,
   "metadata": {},
   "outputs": [],
   "source": [
    "import pandas as pd\n",
    "import numpy as np"
   ]
  },
  {
   "cell_type": "code",
   "execution_count": 15,
   "metadata": {},
   "outputs": [],
   "source": [
    "sismos_route = \"C:\\\\Users\\\\brand\\\\Downloads\\\\SismosMexico.csv\""
   ]
  },
  {
   "cell_type": "code",
   "execution_count": 16,
   "metadata": {},
   "outputs": [],
   "source": [
    "\n",
    "sismos = pd.read_csv(sismos_route)"
   ]
  },
  {
   "cell_type": "code",
   "execution_count": 17,
   "metadata": {},
   "outputs": [
    {
     "name": "stdout",
     "output_type": "stream",
     "text": [
      "I. Hay 4272 registros.\n",
      "Los atributos de los datos son:\n",
      "Index(['Fecha', 'Hora', 'Magnitud', 'Latitud', 'Longitud', 'Profundidad',\n",
      "       'Referencia de localizacion', 'Fecha UTC', 'Hora UTC', 'Estatus'],\n",
      "      dtype='object')\n"
     ]
    }
   ],
   "source": [
    "# I. ¿Cuántos registros hay? ¿Cuáles son los atributos de los datos?\n",
    "print(\"I. Hay\", len(sismos), \"registros.\")\n",
    "print(\"Los atributos de los datos son:\")\n",
    "print(sismos.columns)"
   ]
  },
  {
   "cell_type": "code",
   "execution_count": 18,
   "metadata": {},
   "outputs": [
    {
     "name": "stdout",
     "output_type": "stream",
     "text": [
      "II. Hay 63 registros incompletos.\n"
     ]
    }
   ],
   "source": [
    "# II. ¿Cuántos registros están incompletos?\n",
    "print(\"II. Hay\", sismos.isnull().sum().sum(), \"registros incompletos.\")"
   ]
  },
  {
   "cell_type": "code",
   "execution_count": 19,
   "metadata": {},
   "outputs": [
    {
     "name": "stdout",
     "output_type": "stream",
     "text": [
      "III. El sismo de mayor magnitud registrado en la base es:\n",
      "         Fecha     Hora  Magnitud  Latitud  Longitud Profundidad  \\\n",
      "3930  25/09/24  0:43:21       5.3    14.18    -93.42         8.7   \n",
      "\n",
      "                   Referencia de localizacion Fecha UTC Hora UTC     Estatus  \n",
      "3930  148 km al SUROESTE de CD HIDALGO, CHIS   25/09/24  6:43:21  verificado  \n"
     ]
    }
   ],
   "source": [
    "# III. ¿Cuál ha sido el sismo de mayor magnitud registrado en la base? ¿En dónde fue registrado? Da el registro completo.\n",
    "print(\"III. El sismo de mayor magnitud registrado en la base es:\")\n",
    "print(sismos[sismos['Magnitud'] == sismos['Magnitud'].max()])"
   ]
  },
  {
   "cell_type": "code",
   "execution_count": 20,
   "metadata": {},
   "outputs": [
    {
     "name": "stdout",
     "output_type": "stream",
     "text": [
      "IV. El sismo más superficial es:\n",
      "         Fecha      Hora  Magnitud  Latitud  Longitud  Profundidad  \\\n",
      "192   02/09/24  22:42:47       2.5    19.41    -99.21          1.0   \n",
      "200   03/09/24   0:13:18       1.9    19.40    -99.17          1.0   \n",
      "201   03/09/24   0:19:02       1.4    19.40    -99.17          1.0   \n",
      "844   05/09/24  20:49:08       2.3    19.40    -99.17          1.0   \n",
      "871   06/09/24   1:41:08       2.1    19.40    -99.17          1.0   \n",
      "993   06/09/24  22:54:56       2.2    19.39    -99.17          1.0   \n",
      "1002  06/09/24  23:46:46       1.7    19.40    -99.17          1.0   \n",
      "2897  17/09/24  12:54:07       1.8    19.37    -99.21          1.0   \n",
      "4027  26/09/24   0:39:05       2.9    19.40    -99.18          1.0   \n",
      "4050  26/09/24   5:13:16       2.0    19.39    -99.19          1.0   \n",
      "4054  26/09/24   5:21:31       1.0    19.39    -99.19          1.0   \n",
      "4056  26/09/24   5:31:05       1.0    19.39    -99.19          1.0   \n",
      "4057  26/09/24   5:39:14       1.5    19.39    -99.19          1.0   \n",
      "4076  26/09/24  10:26:32       2.4    19.40    -99.17          1.0   \n",
      "4081  26/09/24  11:17:14       1.1    19.40    -99.17          1.0   \n",
      "4084  26/09/24  11:37:59       1.4    19.40    -99.17          1.0   \n",
      "4086  26/09/24  11:41:49       2.2    19.40    -99.17          1.0   \n",
      "4088  26/09/24  11:50:31       1.5    19.39    -99.20          1.0   \n",
      "4090  26/09/24  12:03:02       1.7    19.40    -99.18          1.0   \n",
      "4107  26/09/24  14:31:21       1.4    19.40    -99.18          1.0   \n",
      "4123  26/09/24  18:29:46       1.0    19.39    -99.19          1.0   \n",
      "4130  26/09/24  19:51:50       1.7    19.39    -99.19          1.0   \n",
      "4131  26/09/24  20:00:26       1.0    19.40    -99.18          1.0   \n",
      "4152  26/09/24  23:16:49       1.6    19.40    -99.18          1.0   \n",
      "4155  26/09/24  23:31:00       2.7    19.38    -99.19          1.0   \n",
      "4159  26/09/24  23:57:05       1.2    19.38    -99.19          1.0   \n",
      "4164  27/09/24   0:29:39       1.8    19.40    -99.18          1.0   \n",
      "4192  27/09/24   3:57:35       2.3    19.39    -99.19          1.0   \n",
      "4242  27/09/24  13:47:01       1.4    19.40    -99.18          1.0   \n",
      "4262  27/09/24  17:51:43       2.4    19.38    -99.19          1.0   \n",
      "\n",
      "                       Referencia de localizacion Fecha UTC  Hora UTC  \\\n",
      "192   2 km al NOROESTE de V ALVARO OBREGON, CDMX   03/09/24   4:42:47   \n",
      "200      1 km al SUROESTE de BENITO JUAREZ, CDMX   03/09/24   6:13:18   \n",
      "201      1 km al SUROESTE de BENITO JUAREZ, CDMX   03/09/24   6:19:02   \n",
      "844         1 km al OESTE de BENITO JUAREZ, CDMX   06/09/24   2:49:08   \n",
      "871         2 km al OESTE de BENITO JUAREZ, CDMX   06/09/24   7:41:08   \n",
      "993      2 km al SUROESTE de BENITO JUAREZ, CDMX   07/09/24   4:54:56   \n",
      "1002     1 km al SUROESTE de BENITO JUAREZ, CDMX   07/09/24   5:46:46   \n",
      "2897  3 km al SUROESTE de V ALVARO OBREGON, CDMX   17/09/24  18:54:07   \n",
      "4027     2 km al SURESTE de MIGUEL HIDALGO, CDMX   26/09/24   6:39:05   \n",
      "4050     1 km al SURESTE de MIGUEL HIDALGO, CDMX   26/09/24  11:13:16   \n",
      "4054     1 km al SURESTE de MIGUEL HIDALGO, CDMX   26/09/24  11:21:31   \n",
      "4056     1 km al SURESTE de MIGUEL HIDALGO, CDMX   26/09/24  11:31:05   \n",
      "4057     1 km al SURESTE de MIGUEL HIDALGO, CDMX   26/09/24  11:39:14   \n",
      "4076        2 km al OESTE de BENITO JUAREZ, CDMX   26/09/24  16:26:32   \n",
      "4081        1 km al OESTE de BENITO JUAREZ, CDMX   26/09/24  17:17:14   \n",
      "4084        1 km al OESTE de BENITO JUAREZ, CDMX   26/09/24  17:37:59   \n",
      "4086        1 km al OESTE de BENITO JUAREZ, CDMX   26/09/24  17:41:49   \n",
      "4088       1 km al SUR de V ALVARO OBREGON, CDMX   26/09/24  17:50:31   \n",
      "4090      2 km al SURESTE de MIGUEL HIDALGO, CDMX  26/09/24  18:03:02   \n",
      "4107     1 km al SURESTE de MIGUEL HIDALGO, CDMX   26/09/24  20:31:21   \n",
      "4123   1 km al SURESTE de V ALVARO OBREGON, CDMX   27/09/24   0:29:46   \n",
      "4130     1 km al SURESTE de MIGUEL HIDALGO, CDMX   27/09/24   1:51:50   \n",
      "4131     1 km al SURESTE de MIGUEL HIDALGO, CDMX   27/09/24   2:00:26   \n",
      "4152     1 km al SURESTE de MIGUEL HIDALGO, CDMX   27/09/24   5:16:49   \n",
      "4155   2 km al SURESTE de V ALVARO OBREGON, CDMX   27/09/24   5:31:00   \n",
      "4159   2 km al SURESTE de V ALVARO OBREGON, CDMX   27/09/24   5:57:05   \n",
      "4164     2 km al SURESTE de MIGUEL HIDALGO, CDMX   27/09/24   6:29:39   \n",
      "4192   2 km al SURESTE de V ALVARO OBREGON, CDMX   27/09/24   9:57:35   \n",
      "4242     1 km al SURESTE de MIGUEL HIDALGO, CDMX   27/09/24  19:47:01   \n",
      "4262   2 km al SURESTE de V ALVARO OBREGON, CDMX   27/09/24  23:51:43   \n",
      "\n",
      "         Estatus  \n",
      "192   verificado  \n",
      "200   verificado  \n",
      "201   verificado  \n",
      "844   verificado  \n",
      "871   verificado  \n",
      "993   verificado  \n",
      "1002  verificado  \n",
      "2897  verificado  \n",
      "4027  verificado  \n",
      "4050  verificado  \n",
      "4054  verificado  \n",
      "4056  verificado  \n",
      "4057  verificado  \n",
      "4076  verificado  \n",
      "4081  verificado  \n",
      "4084  verificado  \n",
      "4086  verificado  \n",
      "4088  verificado  \n",
      "4090  verificado  \n",
      "4107  verificado  \n",
      "4123  verificado  \n",
      "4130  verificado  \n",
      "4131  verificado  \n",
      "4152  verificado  \n",
      "4155  verificado  \n",
      "4159  verificado  \n",
      "4164  verificado  \n",
      "4192  verificado  \n",
      "4242  verificado  \n",
      "4262  verificado  \n"
     ]
    }
   ],
   "source": [
    "# IV. ¿Cuál es el sismo más superficial y cuál es el sismo más profundo?\n",
    "sismos['Profundidad'] = pd.to_numeric(sismos['Profundidad'], errors='coerce')\n",
    "print(\"IV. El sismo más superficial es:\")\n",
    "print(sismos[sismos['Profundidad'] == sismos['Profundidad'].min()])"
   ]
  },
  {
   "cell_type": "code",
   "execution_count": 22,
   "metadata": {},
   "outputs": [
    {
     "name": "stdout",
     "output_type": "stream",
     "text": [
      "I. El mes con mayor incidencia de sismos es:\n",
      "9.0\n"
     ]
    },
    {
     "name": "stderr",
     "output_type": "stream",
     "text": [
      "C:\\Users\\brand\\AppData\\Local\\Temp\\ipykernel_27620\\3239121129.py:3: UserWarning: Could not infer format, so each element will be parsed individually, falling back to `dateutil`. To ensure parsing is consistent and as-expected, please specify a format.\n",
      "  sismos['Fecha'] = pd.to_datetime(sismos['Fecha'], errors='coerce')\n"
     ]
    }
   ],
   "source": [
    "# I. ¿Cuál es el mes con mayor incidencia de sismos?\n",
    "# Fecha DD/MM/AAAA\n",
    "sismos['Fecha'] = pd.to_datetime(sismos['Fecha'], errors='coerce')\n",
    "sismos['Mes'] = sismos['Fecha'].dt.month\n",
    "print(\"I. El mes con mayor incidencia de sismos es:\")\n",
    "print(sismos['Mes'].value_counts().idxmax())"
   ]
  },
  {
   "cell_type": "code",
   "execution_count": 24,
   "metadata": {},
   "outputs": [
    {
     "name": "stdout",
     "output_type": "stream",
     "text": [
      "II. Los 10 sismos de mayor magnitud en 2024 son:\n",
      "          Fecha      Hora  Magnitud  Latitud  Longitud  Profundidad  \\\n",
      "3930 2024-09-25   0:43:21       5.3    14.18    -93.42          8.7   \n",
      "4097 2024-09-26  13:03:01       5.2    17.96   -100.56         55.4   \n",
      "3446 2024-09-21  13:54:42       4.8    17.74   -101.38         48.0   \n",
      "3186 2024-09-19  19:11:49       4.6    24.52   -103.14         10.0   \n",
      "4132 2024-09-26  20:56:31       4.6    17.99    -96.60         77.9   \n",
      "30   2024-01-09   8:10:14       4.5    14.16    -92.02         55.5   \n",
      "379  2024-03-09  18:21:21       4.5    18.64   -102.12         67.1   \n",
      "3497 2024-09-21  18:23:54       4.5    16.79   -100.58          3.0   \n",
      "3904 2024-09-24  20:11:34       4.5    14.10    -93.46          5.7   \n",
      "4005 2024-09-25  17:24:18       4.5    14.24    -93.44         10.0   \n",
      "\n",
      "                   Referencia de localizacion Fecha UTC  Hora UTC     Estatus  \\\n",
      "3930  148 km al SUROESTE de CD HIDALGO, CHIS   25/09/24   6:43:21  verificado   \n",
      "4097       46 km al SUR de CD ALTAMIRANO, GRO  26/09/24  19:03:01  verificado   \n",
      "3446    21 km al NORESTE de ZIHUATANEJO, GRO   21/09/24  19:54:42  verificado   \n",
      "3186    37 km al NORESTE de JUAN ALDAMA, ZAC   20/09/24   1:11:49  verificado   \n",
      "4132         51 km al OESTE de TUXTEPEC, OAX   27/09/24   2:56:31  verificado   \n",
      "30          59 km al SUR de CD HIDALGO, CHIS   01/09/24  14:10:14  verificado   \n",
      "379       42 km al SUR de NUEVA ITALIA, MICH   04/09/24   0:21:21  verificado   \n",
      "3497             48 km al SUR de TECPAN, GRO   22/09/24   0:23:54  verificado   \n",
      "3904  155 km al SUROESTE de CD HIDALGO, CHIS   25/09/24   2:11:34  verificado   \n",
      "4005     145 km al SUROESTE de HUIXTLA, CHIS   25/09/24  23:24:18  verificado   \n",
      "\n",
      "      Mes  \n",
      "3930  9.0  \n",
      "4097  9.0  \n",
      "3446  9.0  \n",
      "3186  9.0  \n",
      "4132  9.0  \n",
      "30    1.0  \n",
      "379   3.0  \n",
      "3497  9.0  \n",
      "3904  9.0  \n",
      "4005  9.0  \n"
     ]
    }
   ],
   "source": [
    "\n",
    "# II. ¿Cuáles son los 10 sismos de mayor magnitud en 2024? Da los registros.\n",
    "print(\"II. Los 10 sismos de mayor magnitud en 2024 son:\")\n",
    "print(sismos[sismos['Fecha'].dt.year == 2024].nlargest(10, 'Magnitud'))"
   ]
  },
  {
   "cell_type": "code",
   "execution_count": 25,
   "metadata": {},
   "outputs": [
    {
     "name": "stdout",
     "output_type": "stream",
     "text": [
      "III. Los descriptores estadísticos que puedo aplicar a esta base de datos son:\n",
      "1. Media\n",
      "2. Desviación estándar\n",
      "La media y la desviación estándar de la magnitud de los sismos son de mayor utilidad.\n"
     ]
    }
   ],
   "source": [
    "\n",
    "# III. De los descriptores estadísticos de tu formulario, ¿cuáles puedes aplicar a esta base de datos? ¿Cuáles son de mayor utilidad? Da dos ejemplos.\n",
    "print(\"III. Los descriptores estadísticos que puedo aplicar a esta base de datos son:\")\n",
    "print(\"1. Media\")\n",
    "print(\"2. Desviación estándar\")\n",
    "print(\"La media y la desviación estándar de la magnitud de los sismos son de mayor utilidad.\")\n"
   ]
  },
  {
   "cell_type": "code",
   "execution_count": 26,
   "metadata": {},
   "outputs": [
    {
     "name": "stdout",
     "output_type": "stream",
     "text": [
      "IV. La tabla con las magnitudes promedio por mes es:\n",
      "Mes\n",
      "1.0     3.544444\n",
      "2.0     3.224818\n",
      "3.0     2.386192\n",
      "4.0     2.221171\n",
      "5.0     2.434328\n",
      "6.0     2.474468\n",
      "7.0     2.555782\n",
      "8.0     2.522685\n",
      "9.0     2.472887\n",
      "10.0    2.339888\n",
      "11.0    2.241060\n",
      "12.0    2.323967\n",
      "Name: Magnitud, dtype: float64\n"
     ]
    }
   ],
   "source": [
    "\n",
    "# IV. Haz una tabla con las magnitudes promedio por mes\n",
    "print(\"IV. La tabla con las magnitudes promedio por mes es:\")\n",
    "print(sismos.groupby('Mes')['Magnitud'].mean())\n"
   ]
  }
 ],
 "metadata": {
  "kernelspec": {
   "display_name": "venv",
   "language": "python",
   "name": "python3"
  },
  "language_info": {
   "codemirror_mode": {
    "name": "ipython",
    "version": 3
   },
   "file_extension": ".py",
   "mimetype": "text/x-python",
   "name": "python",
   "nbconvert_exporter": "python",
   "pygments_lexer": "ipython3",
   "version": "3.11.9"
  }
 },
 "nbformat": 4,
 "nbformat_minor": 2
}
